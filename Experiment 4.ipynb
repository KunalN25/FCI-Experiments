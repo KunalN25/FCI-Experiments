{
  "nbformat": 4,
  "nbformat_minor": 0,
  "metadata": {
    "colab": {
      "name": "FCI expt4",
      "provenance": []
    },
    "kernelspec": {
      "name": "python3",
      "display_name": "Python 3"
    }
  },
  "cells": [
    {
      "cell_type": "markdown",
      "metadata": {
        "id": "8GLKm5f2rT4Z"
      },
      "source": [
        "# Name: Kunal Nalawade\n",
        "\n",
        "# UID: 2018130031\n",
        "\n",
        "# Experiment 4: Experiment on measuring fit and error parameters for a model\n",
        "\n",
        "#### Aim: To try and fit a curve on given set of data points with and without error.\n"
      ]
    },
    {
      "cell_type": "markdown",
      "metadata": {
        "id": "Hec7GyfKt_fC"
      },
      "source": [
        "###**1. Data Fitting** "
      ]
    },
    {
      "cell_type": "code",
      "metadata": {
        "id": "ejFfvggRrlfc"
      },
      "source": [
        "from pylab import *\n",
        "from scipy.optimize import curve_fit\n",
        "\n",
        "xdata,ydata=loadtxt('FakeData.txt',unpack=True)\n",
        "\n",
        "# This command reads the data from the file FakeData.txt and loads the first column in the file into \n",
        "# the xdata array and the second column into ydata. The unpack=True argument is needed to load the columns properly.\n"
      ],
      "execution_count": null,
      "outputs": []
    },
    {
      "cell_type": "code",
      "metadata": {
        "id": "CKldX6_YrrUV"
      },
      "source": [
        "\n",
        "def linearFunc(x,intercept,slope):\n",
        "  y = intercept + slope * x\n",
        "  return y\n",
        "\n",
        "\n",
        "# The next step is to actually do the fit using curvefit(). \n",
        "# We must pass curvefit() the name of the function to fit, the horizontal axis data, and the \n",
        "# vertical axis data. The program returns some arrays containing the best fit parameters and \n",
        "# the covariance matrix. We will use the covariance matrix to determine the uncertainites in the \n",
        "# slope and intercept of the best fit line.\n",
        "\n",
        "a_fit,cov=curve_fit(linearFunc,xdata,ydata)\n",
        "\n",
        "# The next two lines assign the best-fit parameters returned by the curve_fit() to the \n",
        "# variable inter and slope.\n",
        "inter = a_fit[0]\n",
        "\n",
        "slope = a_fit[1]\n",
        "\n",
        "# Next, the uncertainties in the intercept and slope are computed from the covarience matrix \n",
        "# and assigned to the variables d_inter and d_slope.\n",
        "d_inter = sqrt(cov[0][0])\n",
        "\n",
        "d_slope = sqrt(cov[1][1])"
      ],
      "execution_count": null,
      "outputs": []
    },
    {
      "cell_type": "code",
      "metadata": {
        "id": "RVlZBicLr8ny",
        "colab": {
          "base_uri": "https://localhost:8080/",
          "height": 295
        },
        "outputId": "3c9a44e9-8c08-4f99-8bea-d924f8cd49a1"
      },
      "source": [
        "\n",
        "# Create a graph showing the data.\n",
        "\n",
        "plot(xdata,ydata,'ro',label='Data')\n",
        "\n",
        "# Compute a best fit y values from the fit intercept and slope.\n",
        "\n",
        "yfit = inter + slope*xdata\n",
        "\n",
        "# Create a graph of the fit to the data.\n",
        "\n",
        "plot(xdata,yfit,label='Fit')\n",
        "\n",
        "# Display a legend, label the x and y axes and title the graph.\n",
        "\n",
        "legend()\n",
        "\n",
        "xlabel('x')\n",
        "\n",
        "ylabel('y')\n",
        "\n",
        "title('Plot of data with fit')\n",
        "\n",
        "# Save the figure to a file\n",
        "\n",
        "savefig('FakeData.png')\n",
        "\n",
        "# Show the graph in a new window on the users screen.\n",
        "\n",
        "show()\n",
        "\n",
        "\n"
      ],
      "execution_count": null,
      "outputs": [
        {
          "output_type": "display_data",
          "data": {
            "image/png": "[encoded data removed]",
            "text/plain": [
              "<Figure size 432x288 with 1 Axes>"
            ]
          },
          "metadata": {
            "tags": [],
            "needs_background": "light"
          }
        }
      ]
    },
    {
      "cell_type": "code",
      "metadata": {
        "colab": {
          "base_uri": "https://localhost:8080/"
        },
        "id": "Iv6ppbBYjFBc",
        "outputId": "70c7286b-973b-4596-d7df-2c017597996f"
      },
      "source": [
        "\n",
        "# Display the best fit values for the slope and intercept. These print\n",
        "\n",
        "# statments illustrate how to print a mix of strings and variables.\n",
        "\n",
        "print(f'The slope = {slope}, with uncertainty {d_slope}')\n",
        "\n",
        "print(f'The intercept = {inter}, with uncertainty {d_inter}')"
      ],
      "execution_count": null,
      "outputs": [
        {
          "output_type": "stream",
          "text": [
            "The slope = -0.4203355516625854, with uncertainty 0.6532645969529511\n",
            "The intercept = 8.076483068576964, with uncertainty 3.051233350737408\n"
          ],
          "name": "stdout"
        }
      ]
    },
    {
      "cell_type": "markdown",
      "metadata": {
        "id": "KD8mgocsvLPq"
      },
      "source": [
        "### **2. Data Fitting with error** "
      ]
    },
    {
      "cell_type": "code",
      "metadata": {
        "id": "dU6MY98xwmWL"
      },
      "source": [
        "\n",
        "xdata,ydata,d_y = loadtxt('FakeData_with_error.txt',unpack=True)\n",
        "\n",
        "\n",
        "\n",
        "a_fit,cov=curve_fit(linearFunc,xdata,ydata,sigma=d_y)\n",
        "\n",
        "\n"
      ],
      "execution_count": null,
      "outputs": []
    },
    {
      "cell_type": "code",
      "metadata": {
        "id": "7h8KkVRoxZwW",
        "colab": {
          "base_uri": "https://localhost:8080/",
          "height": 279
        },
        "outputId": "0d9555ca-9354-447d-9598-eb915b468230"
      },
      "source": [
        "inter = a_fit[0]\n",
        "slope = a_fit[1]\n",
        "d_inter = sqrt(cov[0][0])\n",
        "d_slope = sqrt(cov[1][1])\n",
        "\n",
        "\n",
        "\n",
        "\n",
        "errorbar(xdata,ydata,yerr=d_y,fmt='r.',label='Data')\n",
        "\n",
        "\n",
        "yfit = inter + slope*xdata\n",
        "\n",
        "\n",
        "plot(xdata,yfit,label='Fit')\n",
        "\n",
        "\n",
        "legend()\n",
        "xlabel('x')\n",
        "ylabel('y')\n",
        "\n",
        "# Save the figure to a file\n",
        "\n",
        "savefig('FakeDataPlot_with_error.png')\n",
        "\n",
        "# Show the graph in a new window on the users screen.\n",
        "\n",
        "show()\n",
        "\n",
        "# Now we can display the numerical result."
      ],
      "execution_count": null,
      "outputs": [
        {
          "output_type": "display_data",
          "data": {
            "image/png": "[encoded data removed]",
            "text/plain": [
              "<Figure size 432x288 with 1 Axes>"
            ]
          },
          "metadata": {
            "tags": [],
            "needs_background": "light"
          }
        }
      ]
    },
    {
      "cell_type": "code",
      "metadata": {
        "id": "S6LwKJOvxT9n",
        "colab": {
          "base_uri": "https://localhost:8080/"
        },
        "outputId": "9b6615cd-64a6-4a85-d0cd-d83d359697b7"
      },
      "source": [
        "\n",
        "print(f'The slope = {slope}, with uncertainty {d_slope}')\n",
        "\n",
        "print(f'The intercept = {inter}, with uncertainty {d_inter}')\n",
        "\n",
        "# When we have estimated uncertainties in the data, then we can estimate the goodness of fit by computing the reduced chi-squared statistic. For a linear fit to a set of N data points {xi,yi}that have esimated uncertainties in the yi values of {δyi},\n",
        "\n",
        "# where for a linear fit y(x)=a+bx For a good fit, χ2r should be approximately equal to one.\n"
      ],
      "execution_count": null,
      "outputs": [
        {
          "output_type": "stream",
          "text": [
            "The slope = -0.8061085958627834, with uncertainty 0.6697041195218608\n",
            "The intercept = 10.99100312378058, with uncertainty 3.7057185189378834\n"
          ],
          "name": "stdout"
        }
      ]
    },
    {
      "cell_type": "code",
      "metadata": {
        "id": "G3Z6MWUExX0I",
        "colab": {
          "base_uri": "https://localhost:8080/"
        },
        "outputId": "0e1f9919-27bd-439c-bce1-7699ee678c9b"
      },
      "source": [
        "\n",
        "chisqr = sum((ydata-linearFunc(xdata,inter,slope))**2/d_y**2)\n",
        "\n",
        "dof = len(ydata) - 2\n",
        "\n",
        "chisqr_red = chisqr/dof\n",
        "\n",
        "print(f'Reduced chi^2 = {chisqr_red}')"
      ],
      "execution_count": null,
      "outputs": [
        {
          "output_type": "stream",
          "text": [
            "Reduced chi^2 = 0.30489759525319854\n"
          ],
          "name": "stdout"
        }
      ]
    },
    {
      "cell_type": "markdown",
      "metadata": {
        "id": "3ISldkk_VQab"
      },
      "source": [
        "## Conclusion\n",
        "Data Fitting fits a curve on a given set of data points. The test data containing x and y values of data points was used to illustrate the process.Like Linear Regression, we get the best possible line for the given set of data points. To get the maximum confidence, we select the data points which come closest to satisfying the equation. Reduced chi-square is used to test how good a curve fit is. Here in the above example the value is 1.263. Since it is close to one,it indicates that the curve is a good fit for the given set of data points."
      ]
    }
  ]
}